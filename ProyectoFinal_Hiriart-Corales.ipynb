{
 "cells": [
  {
   "cell_type": "markdown",
   "id": "ebf1294d-8da1-4394-9955-83668fbfb59b",
   "metadata": {},
   "source": [
    "# Proyecto Final\n",
    "## ISWZ3401-01 Inteligencia Artificial I\n",
    "### Diego Hiriart, Luis Corales"
   ]
  },
  {
   "cell_type": "code",
   "execution_count": 2,
   "id": "3f9d9dfa-5d1c-43c5-bc19-6a735d7f3f66",
   "metadata": {},
   "outputs": [],
   "source": [
    "#Necessary modules import\n",
    "import tqdm\n",
    "import random\n",
    "import pathlib\n",
    "import itertools\n",
    "import collections\n",
    "\n",
    "import cv2\n",
    "import einops\n",
    "import numpy as np\n",
    "import remotezip as rz\n",
    "import seaborn as sns\n",
    "import matplotlib.pyplot as plt\n",
    "\n",
    "import tensorflow as tf\n",
    "import keras\n",
    "from keras import layers"
   ]
  },
  {
   "cell_type": "code",
   "execution_count": null,
   "id": "e92eaa6f-10ce-488b-9e64-f9503377bf69",
   "metadata": {},
   "outputs": [],
   "source": []
  }
 ],
 "metadata": {
  "kernelspec": {
   "display_name": "Python 3 (ipykernel)",
   "language": "python",
   "name": "python3"
  },
  "language_info": {
   "codemirror_mode": {
    "name": "ipython",
    "version": 3
   },
   "file_extension": ".py",
   "mimetype": "text/x-python",
   "name": "python",
   "nbconvert_exporter": "python",
   "pygments_lexer": "ipython3",
   "version": "3.9.12"
  }
 },
 "nbformat": 4,
 "nbformat_minor": 5
}
